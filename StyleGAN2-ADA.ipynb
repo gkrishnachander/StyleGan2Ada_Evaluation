{
 "cells": [
  {
   "cell_type": "markdown",
   "id": "758810a7",
   "metadata": {
    "id": "9r4UQEzphrBC",
    "papermill": {
     "duration": 0.005118,
     "end_time": "2022-12-24T17:43:27.680017",
     "exception": false,
     "start_time": "2022-12-24T17:43:27.674899",
     "status": "completed"
    },
    "tags": []
   },
   "source": [
    "<a href=\"https://colab.research.google.com/github/jeffheaton/present/blob/master/youtube/gan/colab_gan_train.ipynb\" target=\"_parent\"><img src=\"https://colab.research.google.com/assets/colab-badge.svg\" alt=\"Open In Colab\"/></a>"
   ]
  },
  {
   "cell_type": "code",
   "execution_count": 1,
   "id": "e01004a1",
   "metadata": {
    "execution": {
     "iopub.execute_input": "2022-12-24T17:43:27.690794Z",
     "iopub.status.busy": "2022-12-24T17:43:27.689925Z",
     "iopub.status.idle": "2022-12-24T17:43:28.678760Z",
     "shell.execute_reply": "2022-12-24T17:43:28.677549Z"
    },
    "id": "iPrGcTX8c7E-",
    "outputId": "34f616c5-87db-4f1f-bbd8-3a7c65179dad",
    "papermill": {
     "duration": 0.997277,
     "end_time": "2022-12-24T17:43:28.681410",
     "exception": false,
     "start_time": "2022-12-24T17:43:27.684133",
     "status": "completed"
    },
    "tags": []
   },
   "outputs": [
    {
     "name": "stdout",
     "output_type": "stream",
     "text": [
      "Sat Dec 24 17:43:28 2022       \r\n",
      "+-----------------------------------------------------------------------------+\r\n",
      "| NVIDIA-SMI 470.82.01    Driver Version: 470.82.01    CUDA Version: 11.4     |\r\n",
      "|-------------------------------+----------------------+----------------------+\r\n",
      "| GPU  Name        Persistence-M| Bus-Id        Disp.A | Volatile Uncorr. ECC |\r\n",
      "| Fan  Temp  Perf  Pwr:Usage/Cap|         Memory-Usage | GPU-Util  Compute M. |\r\n",
      "|                               |                      |               MIG M. |\r\n",
      "|===============================+======================+======================|\r\n",
      "|   0  Tesla P100-PCIE...  Off  | 00000000:00:04.0 Off |                    0 |\r\n",
      "| N/A   35C    P0    26W / 250W |      0MiB / 16280MiB |      0%      Default |\r\n",
      "|                               |                      |                  N/A |\r\n",
      "+-------------------------------+----------------------+----------------------+\r\n",
      "                                                                               \r\n",
      "+-----------------------------------------------------------------------------+\r\n",
      "| Processes:                                                                  |\r\n",
      "|  GPU   GI   CI        PID   Type   Process name                  GPU Memory |\r\n",
      "|        ID   ID                                                   Usage      |\r\n",
      "|=============================================================================|\r\n",
      "|  No running processes found                                                 |\r\n",
      "+-----------------------------------------------------------------------------+\r\n"
     ]
    }
   ],
   "source": [
    "!nvidia-smi"
   ]
  },
  {
   "cell_type": "code",
   "execution_count": 2,
   "id": "99067133",
   "metadata": {
    "execution": {
     "iopub.execute_input": "2022-12-24T17:43:28.692264Z",
     "iopub.status.busy": "2022-12-24T17:43:28.691301Z",
     "iopub.status.idle": "2022-12-24T17:44:45.157782Z",
     "shell.execute_reply": "2022-12-24T17:44:45.156550Z"
    },
    "id": "uNqsi6VWAlWo",
    "outputId": "cd98c8c5-35ee-4c16-80e5-c2207d611cd0",
    "papermill": {
     "duration": 76.474745,
     "end_time": "2022-12-24T17:44:45.160591",
     "exception": false,
     "start_time": "2022-12-24T17:43:28.685846",
     "status": "completed"
    },
    "tags": []
   },
   "outputs": [
    {
     "name": "stdout",
     "output_type": "stream",
     "text": [
      "Collecting torch==1.8.1\r\n",
      "  Downloading torch-1.8.1-cp37-cp37m-manylinux1_x86_64.whl (804.1 MB)\r\n",
      "\u001b[2K     \u001b[90m━━━━━━━━━━━━━━━━━━━━━━━━━━━━━━━━━━━━━━━\u001b[0m \u001b[32m804.1/804.1 MB\u001b[0m \u001b[31m1.0 MB/s\u001b[0m eta \u001b[36m0:00:00\u001b[0m\r\n",
      "\u001b[?25hCollecting torchvision==0.9.1\r\n",
      "  Downloading torchvision-0.9.1-cp37-cp37m-manylinux1_x86_64.whl (17.4 MB)\r\n",
      "\u001b[2K     \u001b[90m━━━━━━━━━━━━━━━━━━━━━━━━━━━━━━━━━━━━━━━━\u001b[0m \u001b[32m17.4/17.4 MB\u001b[0m \u001b[31m50.3 MB/s\u001b[0m eta \u001b[36m0:00:00\u001b[0m\r\n",
      "\u001b[?25hRequirement already satisfied: typing-extensions in /opt/conda/lib/python3.7/site-packages (from torch==1.8.1) (4.1.1)\r\n",
      "Requirement already satisfied: numpy in /opt/conda/lib/python3.7/site-packages (from torch==1.8.1) (1.21.6)\r\n",
      "Requirement already satisfied: pillow>=4.1.1 in /opt/conda/lib/python3.7/site-packages (from torchvision==0.9.1) (9.1.1)\r\n",
      "Installing collected packages: torch, torchvision\r\n",
      "  Attempting uninstall: torch\r\n",
      "    Found existing installation: torch 1.11.0\r\n",
      "    Uninstalling torch-1.11.0:\r\n",
      "      Successfully uninstalled torch-1.11.0\r\n",
      "  Attempting uninstall: torchvision\r\n",
      "    Found existing installation: torchvision 0.12.0\r\n",
      "    Uninstalling torchvision-0.12.0:\r\n",
      "      Successfully uninstalled torchvision-0.12.0\r\n",
      "\u001b[31mERROR: pip's dependency resolver does not currently take into account all the packages that are installed. This behaviour is the source of the following dependency conflicts.\r\n",
      "pytorch-lightning 1.7.7 requires torch>=1.9.*, but you have torch 1.8.1 which is incompatible.\r\n",
      "allennlp 2.10.1 requires torch<1.13.0,>=1.10.0, but you have torch 1.8.1 which is incompatible.\u001b[0m\u001b[31m\r\n",
      "\u001b[0mSuccessfully installed torch-1.8.1 torchvision-0.9.1\r\n",
      "\u001b[33mWARNING: Running pip as the 'root' user can result in broken permissions and conflicting behaviour with the system package manager. It is recommended to use a virtual environment instead: https://pip.pypa.io/warnings/venv\u001b[0m\u001b[33m\r\n",
      "\u001b[0mRequirement already satisfied: ninja in /opt/conda/lib/python3.7/site-packages (1.10.2.4)\r\n",
      "\u001b[33mWARNING: Running pip as the 'root' user can result in broken permissions and conflicting behaviour with the system package manager. It is recommended to use a virtual environment instead: https://pip.pypa.io/warnings/venv\u001b[0m\u001b[33m\r\n",
      "\u001b[0m"
     ]
    }
   ],
   "source": [
    "!pip install torch==1.8.1 torchvision==0.9.1\n",
    "!pip install ninja"
   ]
  },
  {
   "cell_type": "code",
   "execution_count": 3,
   "id": "65c7da8b",
   "metadata": {
    "execution": {
     "iopub.execute_input": "2022-12-24T17:44:45.205395Z",
     "iopub.status.busy": "2022-12-24T17:44:45.204344Z",
     "iopub.status.idle": "2022-12-24T17:44:46.820086Z",
     "shell.execute_reply": "2022-12-24T17:44:46.818833Z"
    },
    "papermill": {
     "duration": 1.640856,
     "end_time": "2022-12-24T17:44:46.822897",
     "exception": false,
     "start_time": "2022-12-24T17:44:45.182041",
     "status": "completed"
    },
    "tags": []
   },
   "outputs": [
    {
     "name": "stdout",
     "output_type": "stream",
     "text": [
      "Cloning into 'stylegan2-ada-pytorch'...\r\n",
      "remote: Enumerating objects: 128, done.\u001b[K\r\n",
      "remote: Total 128 (delta 0), reused 0 (delta 0), pack-reused 128\u001b[K\r\n",
      "Receiving objects: 100% (128/128), 1.12 MiB | 14.35 MiB/s, done.\r\n",
      "Resolving deltas: 100% (57/57), done.\r\n"
     ]
    }
   ],
   "source": [
    "!git clone https://github.com/NVlabs/stylegan2-ada-pytorch.git"
   ]
  },
  {
   "cell_type": "code",
   "execution_count": 4,
   "id": "16fd1030",
   "metadata": {
    "execution": {
     "iopub.execute_input": "2022-12-24T17:44:46.865741Z",
     "iopub.status.busy": "2022-12-24T17:44:46.865321Z",
     "iopub.status.idle": "2022-12-24T17:44:46.871444Z",
     "shell.execute_reply": "2022-12-24T17:44:46.870525Z"
    },
    "papermill": {
     "duration": 0.029889,
     "end_time": "2022-12-24T17:44:46.873459",
     "exception": false,
     "start_time": "2022-12-24T17:44:46.843570",
     "status": "completed"
    },
    "tags": []
   },
   "outputs": [],
   "source": [
    "import os\n",
    "os.makedirs('/kaggle/working/Experiments')\n",
    "os.makedirs('/kaggle/working/Dataset')\n",
    "os.makedirs('/kaggle/working/Experiments/prl_dataset-auto1-kimg1000-resumecustom')\n"
   ]
  },
  {
   "cell_type": "code",
   "execution_count": 5,
   "id": "1b911d78",
   "metadata": {
    "execution": {
     "iopub.execute_input": "2022-12-24T17:44:46.916403Z",
     "iopub.status.busy": "2022-12-24T17:44:46.915406Z",
     "iopub.status.idle": "2022-12-24T17:45:17.757267Z",
     "shell.execute_reply": "2022-12-24T17:45:17.756051Z"
    },
    "id": "lYP2NlwHA6r9",
    "outputId": "2b029a61-c439-4d3d-af09-482334bd74c9",
    "papermill": {
     "duration": 30.865927,
     "end_time": "2022-12-24T17:45:17.760081",
     "exception": false,
     "start_time": "2022-12-24T17:44:46.894154",
     "status": "completed"
    },
    "tags": []
   },
   "outputs": [
    {
     "name": "stdout",
     "output_type": "stream",
     "text": [
      "/kaggle/working/stylegan2-ada-pytorch/dataset_tool.py:205: DeprecationWarning: BOX is deprecated and will be removed in Pillow 10 (2023-07-01). Use Resampling.BOX instead.\r\n",
      "  resample = { 'box': PIL.Image.BOX, 'lanczos': PIL.Image.LANCZOS }[resize_filter]\r\n",
      "/kaggle/working/stylegan2-ada-pytorch/dataset_tool.py:205: DeprecationWarning: LANCZOS is deprecated and will be removed in Pillow 10 (2023-07-01). Use Resampling.LANCZOS instead.\r\n",
      "  resample = { 'box': PIL.Image.BOX, 'lanczos': PIL.Image.LANCZOS }[resize_filter]\r\n",
      "100%|███████████████████████████████████████| 1349/1349 [00:23<00:00, 57.93it/s]\r\n"
     ]
    }
   ],
   "source": [
    "!python /kaggle/working/stylegan2-ada-pytorch/dataset_tool.py --source /kaggle/input/prl-dataset-pvt/prl_images --dest /root/Datasets/prl_dataset"
   ]
  },
  {
   "cell_type": "code",
   "execution_count": 6,
   "id": "bde3b3e6",
   "metadata": {
    "execution": {
     "iopub.execute_input": "2022-12-24T17:45:17.822313Z",
     "iopub.status.busy": "2022-12-24T17:45:17.821935Z",
     "iopub.status.idle": "2022-12-24T17:45:18.764811Z",
     "shell.execute_reply": "2022-12-24T17:45:18.763553Z"
    },
    "papermill": {
     "duration": 0.976969,
     "end_time": "2022-12-24T17:45:18.767600",
     "exception": false,
     "start_time": "2022-12-24T17:45:17.790631",
     "status": "completed"
    },
    "tags": []
   },
   "outputs": [
    {
     "name": "stdout",
     "output_type": "stream",
     "text": [
      "\u001b[0m\u001b[01;34m00000\u001b[0m/  \u001b[01;34m00001\u001b[0m/  dataset.json\r\n"
     ]
    }
   ],
   "source": [
    "%ls /root/Datasets/prl_dataset"
   ]
  },
  {
   "cell_type": "code",
   "execution_count": 7,
   "id": "035d10b9",
   "metadata": {
    "execution": {
     "iopub.execute_input": "2022-12-24T17:45:18.830847Z",
     "iopub.status.busy": "2022-12-24T17:45:18.829804Z",
     "iopub.status.idle": "2022-12-24T17:45:18.853170Z",
     "shell.execute_reply": "2022-12-24T17:45:18.851988Z"
    },
    "id": "RN-Z2yntuSFe",
    "outputId": "c1eeb0f9-24e3-48c0-f94e-6826ef01e458",
    "papermill": {
     "duration": 0.057361,
     "end_time": "2022-12-24T17:45:18.855344",
     "exception": false,
     "start_time": "2022-12-24T17:45:18.797983",
     "status": "completed"
    },
    "tags": []
   },
   "outputs": [
    {
     "data": {
      "text/plain": [
       "349"
      ]
     },
     "execution_count": 7,
     "metadata": {},
     "output_type": "execute_result"
    }
   ],
   "source": [
    "a=!ls /root/Datasets/prl_dataset/00001\n",
    "len(a)"
   ]
  },
  {
   "cell_type": "code",
   "execution_count": 8,
   "id": "0ccfaceb",
   "metadata": {
    "execution": {
     "iopub.execute_input": "2022-12-24T17:45:18.916123Z",
     "iopub.status.busy": "2022-12-24T17:45:18.915761Z",
     "iopub.status.idle": "2022-12-24T17:45:18.923675Z",
     "shell.execute_reply": "2022-12-24T17:45:18.922459Z"
    },
    "papermill": {
     "duration": 0.041038,
     "end_time": "2022-12-24T17:45:18.925781",
     "exception": false,
     "start_time": "2022-12-24T17:45:18.884743",
     "status": "completed"
    },
    "tags": []
   },
   "outputs": [
    {
     "name": "stdout",
     "output_type": "stream",
     "text": [
      "/kaggle/working/Experiments/prl_dataset-auto1-kimg1000-resumecustom\n"
     ]
    }
   ],
   "source": [
    "cd /kaggle/working/Experiments/prl_dataset-auto1-kimg1000-resumecustom"
   ]
  },
  {
   "cell_type": "code",
   "execution_count": 9,
   "id": "7bac84e2",
   "metadata": {
    "execution": {
     "iopub.execute_input": "2022-12-24T17:45:19.054925Z",
     "iopub.status.busy": "2022-12-24T17:45:19.054449Z",
     "iopub.status.idle": "2022-12-24T17:45:31.681214Z",
     "shell.execute_reply": "2022-12-24T17:45:31.680013Z"
    },
    "papermill": {
     "duration": 12.699528,
     "end_time": "2022-12-24T17:45:31.683749",
     "exception": false,
     "start_time": "2022-12-24T17:45:18.984221",
     "status": "completed"
    },
    "tags": []
   },
   "outputs": [
    {
     "name": "stdout",
     "output_type": "stream",
     "text": [
      "--2022-12-24 17:45:20--  https://gitlab.cs.fau.de/ek50edub/prl/-/raw/main/network-snapshot-000520.pkl\r\n",
      "Resolving gitlab.cs.fau.de (gitlab.cs.fau.de)... 131.188.30.94, 2001:638:a000:4130:131:188:30:94\r\n",
      "Connecting to gitlab.cs.fau.de (gitlab.cs.fau.de)|131.188.30.94|:443... connected.\r\n",
      "HTTP request sent, awaiting response... 200 OK\r\n",
      "Length: 283158144 (270M) [application/octet-stream]\r\n",
      "Saving to: ‘network-snapshot-000520.pkl’\r\n",
      "\r\n",
      "network-snapshot-00 100%[===================>] 270.04M  26.8MB/s    in 11s     \r\n",
      "\r\n",
      "2022-12-24 17:45:31 (25.2 MB/s) - ‘network-snapshot-000520.pkl’ saved [283158144/283158144]\r\n",
      "\r\n"
     ]
    }
   ],
   "source": [
    "!wget https://gitlab.cs.fau.de/ek50edub/prl/-/raw/main/network-snapshot-000520.pkl -O network-snapshot-000520.pkl"
   ]
  },
  {
   "cell_type": "code",
   "execution_count": 10,
   "id": "8d35a875",
   "metadata": {
    "execution": {
     "iopub.execute_input": "2022-12-24T17:45:31.752367Z",
     "iopub.status.busy": "2022-12-24T17:45:31.751965Z",
     "iopub.status.idle": "2022-12-24T17:45:31.760218Z",
     "shell.execute_reply": "2022-12-24T17:45:31.758542Z"
    },
    "papermill": {
     "duration": 0.045048,
     "end_time": "2022-12-24T17:45:31.762349",
     "exception": false,
     "start_time": "2022-12-24T17:45:31.717301",
     "status": "completed"
    },
    "tags": []
   },
   "outputs": [
    {
     "name": "stdout",
     "output_type": "stream",
     "text": [
      "/kaggle/working\n"
     ]
    }
   ],
   "source": [
    "%cd /kaggle/working/"
   ]
  },
  {
   "cell_type": "code",
   "execution_count": 11,
   "id": "af418f0f",
   "metadata": {
    "execution": {
     "iopub.execute_input": "2022-12-24T17:45:31.830247Z",
     "iopub.status.busy": "2022-12-24T17:45:31.829886Z",
     "iopub.status.idle": "2022-12-24T17:45:48.304481Z",
     "shell.execute_reply": "2022-12-24T17:45:48.303248Z"
    },
    "papermill": {
     "duration": 16.511399,
     "end_time": "2022-12-24T17:45:48.307100",
     "exception": false,
     "start_time": "2022-12-24T17:45:31.795701",
     "status": "completed"
    },
    "tags": []
   },
   "outputs": [
    {
     "name": "stdout",
     "output_type": "stream",
     "text": [
      "  adding: kaggle/working/Experiments/ (stored 0%)\r\n",
      "  adding: kaggle/working/Experiments/prl_dataset-auto1-kimg1000-resumecustom/ (stored 0%)\r\n",
      "  adding: kaggle/working/Experiments/prl_dataset-auto1-kimg1000-resumecustom/network-snapshot-000520.pkl (deflated 7%)\r\n"
     ]
    }
   ],
   "source": [
    "!zip -r res1.zip /kaggle/working/Experiments"
   ]
  },
  {
   "cell_type": "code",
   "execution_count": 12,
   "id": "70ee2561",
   "metadata": {
    "execution": {
     "iopub.execute_input": "2022-12-24T17:45:48.374362Z",
     "iopub.status.busy": "2022-12-24T17:45:48.374001Z",
     "iopub.status.idle": "2022-12-24T17:45:49.327913Z",
     "shell.execute_reply": "2022-12-24T17:45:49.326626Z"
    },
    "papermill": {
     "duration": 0.989944,
     "end_time": "2022-12-24T17:45:49.330417",
     "exception": false,
     "start_time": "2022-12-24T17:45:48.340473",
     "status": "completed"
    },
    "tags": []
   },
   "outputs": [
    {
     "name": "stdout",
     "output_type": "stream",
     "text": [
      "\u001b[0m\u001b[01;34mprl_dataset-auto1-kimg1000-resumecustom\u001b[0m/\r\n"
     ]
    }
   ],
   "source": [
    "%ls /kaggle/working/Experiments"
   ]
  },
  {
   "cell_type": "code",
   "execution_count": 13,
   "id": "a8f829fc",
   "metadata": {
    "execution": {
     "iopub.execute_input": "2022-12-24T17:45:49.398228Z",
     "iopub.status.busy": "2022-12-24T17:45:49.397142Z",
     "iopub.status.idle": "2022-12-24T17:45:49.404790Z",
     "shell.execute_reply": "2022-12-24T17:45:49.403737Z"
    },
    "papermill": {
     "duration": 0.04362,
     "end_time": "2022-12-24T17:45:49.406851",
     "exception": false,
     "start_time": "2022-12-24T17:45:49.363231",
     "status": "completed"
    },
    "tags": []
   },
   "outputs": [
    {
     "data": {
      "text/html": [
       "Path (<tt>sample_data.zip</tt>) doesn't exist. It may still be in the process of being generated, or you may have the incorrect path."
      ],
      "text/plain": [
       "/kaggle/working/sample_data.zip"
      ]
     },
     "execution_count": 13,
     "metadata": {},
     "output_type": "execute_result"
    }
   ],
   "source": [
    "from IPython.display import FileLink\n",
    "FileLink(r'sample_data.zip')"
   ]
  },
  {
   "cell_type": "markdown",
   "id": "35aa9fdd",
   "metadata": {
    "id": "otsNELpn8_2D",
    "papermill": {
     "duration": 0.035399,
     "end_time": "2022-12-24T17:45:49.479628",
     "exception": false,
     "start_time": "2022-12-24T17:45:49.444229",
     "status": "completed"
    },
    "tags": []
   },
   "source": [
    "The following command can be used to clear out the newly created dataset.  If something goes wrong and you need to clean up your images and rerun the above command, you should delete your partially created dataset directory."
   ]
  },
  {
   "cell_type": "code",
   "execution_count": 14,
   "id": "05cd4747",
   "metadata": {
    "execution": {
     "iopub.execute_input": "2022-12-24T17:45:49.550023Z",
     "iopub.status.busy": "2022-12-24T17:45:49.549000Z",
     "iopub.status.idle": "2022-12-24T17:45:59.084494Z",
     "shell.execute_reply": "2022-12-24T17:45:59.083237Z"
    },
    "papermill": {
     "duration": 9.572495,
     "end_time": "2022-12-24T17:45:59.087087",
     "exception": false,
     "start_time": "2022-12-24T17:45:49.514592",
     "status": "completed"
    },
    "tags": []
   },
   "outputs": [
    {
     "name": "stdout",
     "output_type": "stream",
     "text": [
      "Requirement already satisfied: click in /opt/conda/lib/python3.7/site-packages (8.0.4)\r\n",
      "Requirement already satisfied: importlib-metadata in /opt/conda/lib/python3.7/site-packages (from click) (4.13.0)\r\n",
      "Requirement already satisfied: typing-extensions>=3.6.4 in /opt/conda/lib/python3.7/site-packages (from importlib-metadata->click) (4.1.1)\r\n",
      "Requirement already satisfied: zipp>=0.5 in /opt/conda/lib/python3.7/site-packages (from importlib-metadata->click) (3.8.0)\r\n",
      "\u001b[33mWARNING: Running pip as the 'root' user can result in broken permissions and conflicting behaviour with the system package manager. It is recommended to use a virtual environment instead: https://pip.pypa.io/warnings/venv\u001b[0m\u001b[33m\r\n",
      "\u001b[0m"
     ]
    }
   ],
   "source": [
    "!pip  install click"
   ]
  },
  {
   "cell_type": "code",
   "execution_count": 15,
   "id": "b8a8b7cc",
   "metadata": {
    "execution": {
     "iopub.execute_input": "2022-12-24T17:45:59.162547Z",
     "iopub.status.busy": "2022-12-24T17:45:59.162002Z",
     "iopub.status.idle": "2022-12-24T17:46:10.048728Z",
     "shell.execute_reply": "2022-12-24T17:46:10.047535Z"
    },
    "id": "pvPZLsCUlzGn",
    "outputId": "c9f10096-5583-4ed9-9528-7d387ada7c57",
    "papermill": {
     "duration": 10.929608,
     "end_time": "2022-12-24T17:46:10.051217",
     "exception": false,
     "start_time": "2022-12-24T17:45:59.121609",
     "status": "completed"
    },
    "tags": []
   },
   "outputs": [
    {
     "name": "stdout",
     "output_type": "stream",
     "text": [
      "\r\n",
      "Training options:\r\n",
      "{\r\n",
      "  \"num_gpus\": 2,\r\n",
      "  \"image_snapshot_ticks\": 10,\r\n",
      "  \"network_snapshot_ticks\": 10,\r\n",
      "  \"metrics\": [\r\n",
      "    \"fid50k_full\"\r\n",
      "  ],\r\n",
      "  \"random_seed\": 0,\r\n",
      "  \"training_set_kwargs\": {\r\n",
      "    \"class_name\": \"training.dataset.ImageFolderDataset\",\r\n",
      "    \"path\": \"/root/Datasets/prl_dataset/\",\r\n",
      "    \"use_labels\": false,\r\n",
      "    \"max_size\": 1349,\r\n",
      "    \"xflip\": false,\r\n",
      "    \"resolution\": 256\r\n",
      "  },\r\n",
      "  \"data_loader_kwargs\": {\r\n",
      "    \"pin_memory\": true,\r\n",
      "    \"num_workers\": 3,\r\n",
      "    \"prefetch_factor\": 2\r\n",
      "  },\r\n",
      "  \"G_kwargs\": {\r\n",
      "    \"class_name\": \"training.networks.Generator\",\r\n",
      "    \"z_dim\": 512,\r\n",
      "    \"w_dim\": 512,\r\n",
      "    \"mapping_kwargs\": {\r\n",
      "      \"num_layers\": 2\r\n",
      "    },\r\n",
      "    \"synthesis_kwargs\": {\r\n",
      "      \"channel_base\": 16384,\r\n",
      "      \"channel_max\": 512,\r\n",
      "      \"num_fp16_res\": 4,\r\n",
      "      \"conv_clamp\": 256\r\n",
      "    }\r\n",
      "  },\r\n",
      "  \"D_kwargs\": {\r\n",
      "    \"class_name\": \"training.networks.Discriminator\",\r\n",
      "    \"block_kwargs\": {},\r\n",
      "    \"mapping_kwargs\": {},\r\n",
      "    \"epilogue_kwargs\": {\r\n",
      "      \"mbstd_group_size\": 4\r\n",
      "    },\r\n",
      "    \"channel_base\": 16384,\r\n",
      "    \"channel_max\": 512,\r\n",
      "    \"num_fp16_res\": 4,\r\n",
      "    \"conv_clamp\": 256\r\n",
      "  },\r\n",
      "  \"G_opt_kwargs\": {\r\n",
      "    \"class_name\": \"torch.optim.Adam\",\r\n",
      "    \"lr\": 0.0025,\r\n",
      "    \"betas\": [\r\n",
      "      0,\r\n",
      "      0.99\r\n",
      "    ],\r\n",
      "    \"eps\": 1e-08\r\n",
      "  },\r\n",
      "  \"D_opt_kwargs\": {\r\n",
      "    \"class_name\": \"torch.optim.Adam\",\r\n",
      "    \"lr\": 0.0025,\r\n",
      "    \"betas\": [\r\n",
      "      0,\r\n",
      "      0.99\r\n",
      "    ],\r\n",
      "    \"eps\": 1e-08\r\n",
      "  },\r\n",
      "  \"loss_kwargs\": {\r\n",
      "    \"class_name\": \"training.loss.StyleGAN2Loss\",\r\n",
      "    \"r1_gamma\": 0.4096\r\n",
      "  },\r\n",
      "  \"total_kimg\": 1000,\r\n",
      "  \"batch_size\": 32,\r\n",
      "  \"batch_gpu\": 16,\r\n",
      "  \"ema_kimg\": 10.0,\r\n",
      "  \"ema_rampup\": null,\r\n",
      "  \"ada_target\": 0.6,\r\n",
      "  \"augment_kwargs\": {\r\n",
      "    \"class_name\": \"training.augment.AugmentPipe\",\r\n",
      "    \"xflip\": 1,\r\n",
      "    \"rotate90\": 1,\r\n",
      "    \"xint\": 1,\r\n",
      "    \"scale\": 1,\r\n",
      "    \"rotate\": 1,\r\n",
      "    \"aniso\": 1,\r\n",
      "    \"xfrac\": 1,\r\n",
      "    \"brightness\": 1,\r\n",
      "    \"contrast\": 1,\r\n",
      "    \"lumaflip\": 1,\r\n",
      "    \"hue\": 1,\r\n",
      "    \"saturation\": 1\r\n",
      "  },\r\n",
      "  \"resume_pkl\": \"/kaggle/working/Experiments/prl_dataset-auto1-kimg1000-resumecustom/network-snapshot-000520.pkl\",\r\n",
      "  \"ada_kimg\": 100,\r\n",
      "  \"run_dir\": \"/kaggle/working/Experiments/00000--auto2-kimg1000-resumecustom\"\r\n",
      "}\r\n",
      "\r\n",
      "Output directory:   /kaggle/working/Experiments/00000--auto2-kimg1000-resumecustom\r\n",
      "Training data:      /root/Datasets/prl_dataset/\r\n",
      "Training duration:  1000 kimg\r\n",
      "Number of GPUs:     2\r\n",
      "Number of images:   1349\r\n",
      "Image resolution:   256\r\n",
      "Conditional model:  False\r\n",
      "Dataset x-flips:    False\r\n",
      "\r\n",
      "Creating output directory...\r\n",
      "Launching processes...\r\n",
      "Loading training set...\r\n",
      "/opt/conda/lib/python3.7/site-packages/torch/utils/data/dataloader.py:477: UserWarning: This DataLoader will create 3 worker processes in total. Our suggested max number of worker in current system is 2, which is smaller than what this DataLoader is going to create. Please be aware that excessive worker creation might get DataLoader running slow or even freeze, lower the worker number to avoid potential slowness/freeze if necessary.\r\n",
      "  cpuset_checked))\r\n",
      "/opt/conda/lib/python3.7/site-packages/torch/utils/data/dataloader.py:477: UserWarning: This DataLoader will create 3 worker processes in total. Our suggested max number of worker in current system is 2, which is smaller than what this DataLoader is going to create. Please be aware that excessive worker creation might get DataLoader running slow or even freeze, lower the worker number to avoid potential slowness/freeze if necessary.\r\n",
      "  cpuset_checked))\r\n",
      "\r\n",
      "Num images:  1349\r\n",
      "Image shape: [3, 256, 256]\r\n",
      "Label shape: [0]\r\n",
      "\r\n",
      "Constructing networks...\r\n",
      "Process SpawnProcess-2:\r\n",
      "Traceback (most recent call last):\r\n",
      "  File \"/opt/conda/lib/python3.7/site-packages/torch/multiprocessing/spawn.py\", line 59, in _wrap\r\n",
      "    fn(i, *args)\r\n",
      "  File \"/kaggle/working/stylegan2-ada-pytorch/train.py\", line 383, in subprocess_fn\r\n",
      "    training_loop.training_loop(rank=rank, **args)\r\n",
      "  File \"/kaggle/working/stylegan2-ada-pytorch/training/training_loop.py\", line 150, in training_loop\r\n",
      "    G = dnnlib.util.construct_class_by_name(**G_kwargs, **common_kwargs).train().requires_grad_(False).to(device) # subclass of torch.nn.Module\r\n",
      "  File \"/opt/conda/lib/python3.7/site-packages/torch/nn/modules/module.py\", line 673, in to\r\n",
      "    return self._apply(convert)\r\n",
      "  File \"/opt/conda/lib/python3.7/site-packages/torch/nn/modules/module.py\", line 387, in _apply\r\n",
      "    module._apply(fn)\r\n",
      "  File \"/opt/conda/lib/python3.7/site-packages/torch/nn/modules/module.py\", line 387, in _apply\r\n",
      "    module._apply(fn)\r\n",
      "  File \"/opt/conda/lib/python3.7/site-packages/torch/nn/modules/module.py\", line 387, in _apply\r\n",
      "    module._apply(fn)\r\n",
      "  [Previous line repeated 1 more time]\r\n",
      "  File \"/opt/conda/lib/python3.7/site-packages/torch/nn/modules/module.py\", line 409, in _apply\r\n",
      "    param_applied = fn(param)\r\n",
      "  File \"/opt/conda/lib/python3.7/site-packages/torch/nn/modules/module.py\", line 671, in convert\r\n",
      "    return t.to(device, dtype if t.is_floating_point() or t.is_complex() else None, non_blocking)\r\n",
      "RuntimeError: CUDA error: invalid device ordinal\r\n",
      "\r\n",
      "During handling of the above exception, another exception occurred:\r\n",
      "\r\n",
      "Traceback (most recent call last):\r\n",
      "  File \"/opt/conda/lib/python3.7/multiprocessing/process.py\", line 297, in _bootstrap\r\n",
      "    self.run()\r\n",
      "  File \"/opt/conda/lib/python3.7/multiprocessing/process.py\", line 99, in run\r\n",
      "    self._target(*self._args, **self._kwargs)\r\n",
      "  File \"/opt/conda/lib/python3.7/site-packages/torch/multiprocessing/spawn.py\", line 66, in _wrap\r\n",
      "    sys.exit(1)\r\n",
      "SystemExit: 1\r\n",
      "\r\n",
      "During handling of the above exception, another exception occurred:\r\n",
      "\r\n",
      "Traceback (most recent call last):\r\n",
      "  File \"/opt/conda/lib/python3.7/multiprocessing/process.py\", line 300, in _bootstrap\r\n",
      "    util._exit_function()\r\n",
      "  File \"/opt/conda/lib/python3.7/multiprocessing/util.py\", line 357, in _exit_function\r\n",
      "    p.join()\r\n",
      "  File \"/opt/conda/lib/python3.7/multiprocessing/process.py\", line 140, in join\r\n",
      "    res = self._popen.wait(timeout)\r\n",
      "  File \"/opt/conda/lib/python3.7/multiprocessing/popen_fork.py\", line 48, in wait\r\n",
      "    return self.poll(os.WNOHANG if timeout == 0.0 else 0)\r\n",
      "  File \"/opt/conda/lib/python3.7/multiprocessing/popen_fork.py\", line 28, in poll\r\n",
      "    pid, sts = os.waitpid(self.pid, flag)\r\n",
      "  File \"/opt/conda/lib/python3.7/site-packages/torch/utils/data/_utils/signal_handling.py\", line 66, in handler\r\n",
      "    _error_if_any_worker_fails()\r\n",
      "RuntimeError: DataLoader worker (pid 215) is killed by signal: Terminated. \r\n",
      "Traceback (most recent call last):\r\n",
      "  File \"/kaggle/working/stylegan2-ada-pytorch/train.py\", line 538, in <module>\r\n",
      "    main() # pylint: disable=no-value-for-parameter\r\n",
      "  File \"/opt/conda/lib/python3.7/site-packages/click/core.py\", line 1128, in __call__\r\n",
      "    return self.main(*args, **kwargs)\r\n",
      "  File \"/opt/conda/lib/python3.7/site-packages/click/core.py\", line 1053, in main\r\n",
      "    rv = self.invoke(ctx)\r\n",
      "  File \"/opt/conda/lib/python3.7/site-packages/click/core.py\", line 1395, in invoke\r\n",
      "    return ctx.invoke(self.callback, **ctx.params)\r\n",
      "  File \"/opt/conda/lib/python3.7/site-packages/click/core.py\", line 754, in invoke\r\n",
      "    return __callback(*args, **kwargs)\r\n",
      "  File \"/opt/conda/lib/python3.7/site-packages/click/decorators.py\", line 26, in new_func\r\n",
      "    return f(get_current_context(), *args, **kwargs)\r\n",
      "  File \"/kaggle/working/stylegan2-ada-pytorch/train.py\", line 533, in main\r\n",
      "    torch.multiprocessing.spawn(fn=subprocess_fn, args=(args, temp_dir), nprocs=args.num_gpus)\r\n",
      "  File \"/opt/conda/lib/python3.7/site-packages/torch/multiprocessing/spawn.py\", line 230, in spawn\r\n",
      "    return start_processes(fn, args, nprocs, join, daemon, start_method='spawn')\r\n",
      "  File \"/opt/conda/lib/python3.7/site-packages/torch/multiprocessing/spawn.py\", line 188, in start_processes\r\n",
      "    while not context.join():\r\n",
      "  File \"/opt/conda/lib/python3.7/site-packages/torch/multiprocessing/spawn.py\", line 150, in join\r\n",
      "    raise ProcessRaisedException(msg, error_index, failed_process.pid)\r\n",
      "torch.multiprocessing.spawn.ProcessRaisedException: \r\n",
      "\r\n",
      "-- Process 1 terminated with the following error:\r\n",
      "Traceback (most recent call last):\r\n",
      "  File \"/opt/conda/lib/python3.7/site-packages/torch/multiprocessing/spawn.py\", line 59, in _wrap\r\n",
      "    fn(i, *args)\r\n",
      "  File \"/kaggle/working/stylegan2-ada-pytorch/train.py\", line 383, in subprocess_fn\r\n",
      "    training_loop.training_loop(rank=rank, **args)\r\n",
      "  File \"/kaggle/working/stylegan2-ada-pytorch/training/training_loop.py\", line 150, in training_loop\r\n",
      "    G = dnnlib.util.construct_class_by_name(**G_kwargs, **common_kwargs).train().requires_grad_(False).to(device) # subclass of torch.nn.Module\r\n",
      "  File \"/opt/conda/lib/python3.7/site-packages/torch/nn/modules/module.py\", line 673, in to\r\n",
      "    return self._apply(convert)\r\n",
      "  File \"/opt/conda/lib/python3.7/site-packages/torch/nn/modules/module.py\", line 387, in _apply\r\n",
      "    module._apply(fn)\r\n",
      "  File \"/opt/conda/lib/python3.7/site-packages/torch/nn/modules/module.py\", line 387, in _apply\r\n",
      "    module._apply(fn)\r\n",
      "  File \"/opt/conda/lib/python3.7/site-packages/torch/nn/modules/module.py\", line 387, in _apply\r\n",
      "    module._apply(fn)\r\n",
      "  [Previous line repeated 1 more time]\r\n",
      "  File \"/opt/conda/lib/python3.7/site-packages/torch/nn/modules/module.py\", line 409, in _apply\r\n",
      "    param_applied = fn(param)\r\n",
      "  File \"/opt/conda/lib/python3.7/site-packages/torch/nn/modules/module.py\", line 671, in convert\r\n",
      "    return t.to(device, dtype if t.is_floating_point() or t.is_complex() else None, non_blocking)\r\n",
      "RuntimeError: CUDA error: invalid device ordinal\r\n",
      "\r\n"
     ]
    }
   ],
   "source": [
    "# Modify these to suit your needs\n",
    "EXPERIMENTS = \"/kaggle/working/Experiments\"\n",
    "NETWORK = \"network-snapshot-000520.pkl\"\n",
    "RESUME = os.path.join(EXPERIMENTS, \"prl_dataset-auto1-kimg1000-resumecustom\", NETWORK)\n",
    "DATA = \"/root/Datasets/prl_dataset/\"\n",
    "SNAP = 10\n",
    "kig=1000\n",
    "gpu=2\n",
    "# Build the command and run it\n",
    "cmd = f\"python /kaggle/working/stylegan2-ada-pytorch/train.py --gpus {gpu} --kimg {kig} --snap {SNAP} --resume {RESUME} --outdir {EXPERIMENTS} --data {DATA}\"\n",
    "!{cmd}"
   ]
  },
  {
   "cell_type": "code",
   "execution_count": 16,
   "id": "064ecc6d",
   "metadata": {
    "execution": {
     "iopub.execute_input": "2022-12-24T17:46:10.121008Z",
     "iopub.status.busy": "2022-12-24T17:46:10.120622Z",
     "iopub.status.idle": "2022-12-24T17:46:11.056746Z",
     "shell.execute_reply": "2022-12-24T17:46:11.055224Z"
    },
    "papermill": {
     "duration": 0.97493,
     "end_time": "2022-12-24T17:46:11.060475",
     "exception": false,
     "start_time": "2022-12-24T17:46:10.085545",
     "status": "completed"
    },
    "tags": []
   },
   "outputs": [
    {
     "name": "stdout",
     "output_type": "stream",
     "text": [
      "network-snapshot-000520.pkl\r\n"
     ]
    }
   ],
   "source": [
    "%ls /kaggle/working/Experiments/prl_dataset-auto1-kimg1000-resumecustom/\n"
   ]
  },
  {
   "cell_type": "markdown",
   "id": "685aab2e",
   "metadata": {
    "id": "xMm34ut0wKCb",
    "papermill": {
     "duration": 0.033945,
     "end_time": "2022-12-24T17:46:11.130233",
     "exception": false,
     "start_time": "2022-12-24T17:46:11.096288",
     "status": "completed"
    },
    "tags": []
   },
   "source": []
  }
 ],
 "metadata": {
  "kernelspec": {
   "display_name": "Python 3",
   "language": "python",
   "name": "python3"
  },
  "language_info": {
   "codemirror_mode": {
    "name": "ipython",
    "version": 3
   },
   "file_extension": ".py",
   "mimetype": "text/x-python",
   "name": "python",
   "nbconvert_exporter": "python",
   "pygments_lexer": "ipython3",
   "version": "3.7.12"
  },
  "papermill": {
   "default_parameters": {},
   "duration": 172.078951,
   "end_time": "2022-12-24T17:46:11.785714",
   "environment_variables": {},
   "exception": null,
   "input_path": "__notebook__.ipynb",
   "output_path": "__notebook__.ipynb",
   "parameters": {},
   "start_time": "2022-12-24T17:43:19.706763",
   "version": "2.3.4"
  }
 },
 "nbformat": 4,
 "nbformat_minor": 5
}
